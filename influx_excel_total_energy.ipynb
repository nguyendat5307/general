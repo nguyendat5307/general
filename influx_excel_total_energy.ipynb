{
 "cells": [
  {
   "cell_type": "code",
   "execution_count": 39,
   "metadata": {},
   "outputs": [],
   "source": [
    "import pandas\n",
    "import datetime"
   ]
  },
  {
   "cell_type": "code",
   "execution_count": 40,
   "metadata": {},
   "outputs": [],
   "source": [
    "df_energy_power = pandas.read_csv('df.csv', index_col=0)"
   ]
  },
  {
   "cell_type": "code",
   "execution_count": 41,
   "metadata": {},
   "outputs": [],
   "source": [
    "ls_energy_power = df_energy_power.values.tolist()"
   ]
  },
  {
   "cell_type": "code",
   "execution_count": 42,
   "metadata": {},
   "outputs": [],
   "source": [
    "rows = [list(df_energy_power.columns)] + ls_energy_power"
   ]
  },
  {
   "cell_type": "code",
   "execution_count": 43,
   "metadata": {},
   "outputs": [],
   "source": [
    "from openpyxl import Workbook\n",
    "from openpyxl.styles.borders import Border, Side\n",
    "from openpyxl.chart import BarChart, Reference\n",
    "from openpyxl.utils import get_column_letter\n",
    "import openpyxl.worksheet\n",
    "from openpyxl.worksheet.table import Table, TableStyleInfo"
   ]
  },
  {
   "cell_type": "code",
   "execution_count": 44,
   "metadata": {},
   "outputs": [],
   "source": [
    "thin_border = Border(left=Side(style='thin'), \n",
    "                     right=Side(style='thin'), \n",
    "                     top=Side(style='thin'), \n",
    "                     bottom=Side(style='thin'))"
   ]
  },
  {
   "cell_type": "code",
   "execution_count": 45,
   "metadata": {},
   "outputs": [],
   "source": [
    "workbook = Workbook()\n",
    "sheet = workbook.active\n",
    "sheet.title = 'Data'\n",
    "cs1 = workbook.create_chartsheet('Energy chart')\n",
    "cs2 = workbook.create_chartsheet('Power chart')"
   ]
  },
  {
   "cell_type": "code",
   "execution_count": 46,
   "metadata": {},
   "outputs": [],
   "source": [
    "for row in rows:\n",
    "    sheet.append(row)\n",
    "\n",
    "for row in sheet['A1:D' + str(len(rows))]:\n",
    "    for cell in row:\n",
    "        cell.border = thin_border"
   ]
  },
  {
   "cell_type": "code",
   "execution_count": 47,
   "metadata": {},
   "outputs": [],
   "source": [
    "chart_1 = BarChart()\n",
    "chart_2 = BarChart()"
   ]
  },
  {
   "cell_type": "code",
   "execution_count": 48,
   "metadata": {},
   "outputs": [],
   "source": [
    "data_1 = Reference(worksheet=sheet,\n",
    "                 min_row=1,\n",
    "                 max_row=len(rows),\n",
    "                 min_col=4,\n",
    "                 max_col=4)"
   ]
  },
  {
   "cell_type": "code",
   "execution_count": 49,
   "metadata": {},
   "outputs": [],
   "source": [
    "data_2 = Reference(worksheet=sheet,\n",
    "                 min_row=1,\n",
    "                 max_row=len(rows),\n",
    "                 min_col=3,\n",
    "                 max_col=3)"
   ]
  },
  {
   "cell_type": "code",
   "execution_count": 50,
   "metadata": {},
   "outputs": [],
   "source": [
    "cats = Reference(worksheet=sheet,\n",
    "                 min_row=2,\n",
    "                 max_row=len(rows),\n",
    "                 min_col=1,\n",
    "                 max_col=1)"
   ]
  },
  {
   "cell_type": "code",
   "execution_count": 51,
   "metadata": {},
   "outputs": [],
   "source": [
    "tab = Table(displayName=\"Table1\", ref=\"A1:D\" + str(len(rows)))\n",
    "style = TableStyleInfo(name=\"TableStyleLight11\", showFirstColumn=False,\n",
    "showLastColumn=False, showRowStripes=True, showColumnStripes=True)\n",
    "tab.tableStyleInfo = style\n",
    "sheet.add_table(tab)"
   ]
  },
  {
   "cell_type": "code",
   "execution_count": 52,
   "metadata": {},
   "outputs": [],
   "source": [
    "chart_1.add_data(data_1, titles_from_data=False)\n",
    "chart_1.set_categories(cats)\n",
    "chart_1.y_axis.title = 'Energy (kWh)'\n",
    "chart_1.height = 10\n",
    "chart_1.width = 17\n",
    "chart_1.legend = None\n",
    "chart_1.title = 'Energy per 15 minutes'\n",
    "cs1.add_chart(chart_1)\n",
    "\n",
    "chart_2.add_data(data_2,titles_from_data=False)\n",
    "chart_2.set_categories(cats)\n",
    "chart_2.y_axis.title = 'Power (kW)'\n",
    "chart_2.height = 10\n",
    "chart_2.width = 17\n",
    "chart_2.legend = None\n",
    "chart_2.title = 'Mean power per 15 minutes'\n",
    "cs2.add_chart(chart_2)\n",
    "\n",
    "column_widths = [20, 22, 20, 35]\n",
    "for i, column_width in enumerate(column_widths):\n",
    "    sheet.column_dimensions[get_column_letter(i+1)].width = column_width"
   ]
  },
  {
   "cell_type": "code",
   "execution_count": 53,
   "metadata": {},
   "outputs": [],
   "source": [
    "from openpyxl.styles import Font, Fill, Alignment\n",
    "\n",
    "alignment_title = Alignment(horizontal='center', vertical='center')\n",
    "alignment_content = Alignment(horizontal='left', vertical='center', wrap_text=True)\n",
    "\n",
    "sheet.merge_cells('F1:L3')\n",
    "sheet['F1'].font = Font(sz = 22, bold=True, color='99CC00')\n",
    "sheet['F1'] = 'Báo Cáo Sản Lượng Và Công Suất'\n",
    "sheet['F1'].alignment = alignment_title\n",
    "\n",
    "sheet.merge_cells('G4:K5')\n",
    "sheet['G4'].font = Font(sz = 14, bold=True, color='339966')\n",
    "sheet['G4'] = 'SAVINA SPMS-8.6kW'\n",
    "sheet['G4'].alignment = alignment_title\n",
    "\n",
    "sheet.merge_cells('F6:L6')\n",
    "sheet['F6'].font = Font(sz = 11, bold=True)\n",
    "sheet['F6'] = 'Từ ' + rows[1][0] + ' tới ' + rows[len(rows)-1][0]\n",
    "sheet['F6'].alignment = alignment_title\n",
    "\n",
    "sheet.merge_cells('F8:H8')\n",
    "sheet['F8'].font = Font(sz = 11, bold=True)\n",
    "sheet['F8'] = 'Mã trạm'\n",
    "sheet['F8'].alignment = alignment_content\n",
    "\n",
    "sheet.merge_cells('F9:H9')\n",
    "sheet['F9'].font = Font(sz = 11, bold=True)\n",
    "sheet['F9'] = 'Kinh độ'\n",
    "sheet['F9'].alignment = alignment_content\n",
    "\n",
    "sheet.merge_cells('F10:H10')\n",
    "sheet['F10'].font = Font(sz = 11, bold=True)\n",
    "sheet['F10'] = 'Vĩ độ'\n",
    "sheet['F10'].alignment = alignment_content\n",
    "\n",
    "sheet.merge_cells('F11:H11')\n",
    "sheet['F11'].font = Font(sz = 11, bold=True)\n",
    "sheet['F11'] = 'Vùng'\n",
    "sheet['F11'].alignment = alignment_content\n",
    "\n",
    "sheet.merge_cells('F12:H13')\n",
    "sheet['F12'].font = Font(sz = 11, bold=True)\n",
    "sheet['F12'] = 'Địa chỉ'\n",
    "sheet['F12'].alignment = alignment_content\n",
    "\n",
    "sheet.merge_cells('F14:H14')\n",
    "sheet['F14'].font = Font(sz = 11, bold=True)\n",
    "sheet['F14'] = 'Thời gian có nắng trung bình'\n",
    "sheet['F14'].alignment = alignment_content\n",
    "\n",
    "sheet.merge_cells('F15:H15')\n",
    "sheet['F15'].font = Font(sz = 11, bold=True)\n",
    "sheet['F15'] = 'Tình trạng'\n",
    "sheet['F15'].alignment = alignment_content\n",
    "\n",
    "sheet.merge_cells('I8:L8')\n",
    "sheet['I8'].font = Font(sz = 11)\n",
    "sheet['I8'] = 'SPMS-8.6kW'\n",
    "sheet['I8'].alignment = alignment_content\n",
    "\n",
    "sheet.merge_cells('I9:L9')\n",
    "sheet['I9'].font = Font(sz = 11)\n",
    "sheet['I9'] = '108.244889'\n",
    "sheet['I9'].alignment = alignment_content\n",
    "\n",
    "sheet.merge_cells('I10:L10')\n",
    "sheet['I10'].font = Font(sz = 11)\n",
    "sheet['I10'] = '16.063646'\n",
    "sheet['I10'].alignment = alignment_content\n",
    "\n",
    "sheet.merge_cells('I11:L11')\n",
    "sheet['I11'].font = Font(sz = 11)\n",
    "sheet['I11'] = 'DNG'\n",
    "sheet['I11'].alignment = alignment_content\n",
    "\n",
    "sheet.merge_cells('I12:L13')\n",
    "sheet['I12'].font = Font(sz = 11)\n",
    "sheet['I12'] = '37 Hoàng Hoa Thám, P.Tân Chinh, Q.Thanh Khê, Đà Nẵng'\n",
    "sheet['I12'].alignment = alignment_content\n",
    "\n",
    "sheet.merge_cells('I14:L14')\n",
    "sheet['I14'].font = Font(sz = 11)\n",
    "sheet['I14'] = '7h/ngày'\n",
    "sheet['I14'].alignment = alignment_content\n",
    "\n",
    "sheet.merge_cells('I15:L15')\n",
    "sheet['I15'].font = Font(sz = 11)\n",
    "sheet['I15'] = 'Đang hòa lưới'\n",
    "sheet['I15'].alignment = alignment_content"
   ]
  },
  {
   "cell_type": "code",
   "execution_count": 54,
   "metadata": {},
   "outputs": [],
   "source": [
    "from openpyxl.drawing.image import Image\n",
    "\n",
    "image = Image('savina-spms-8600W.jpg')\n",
    "image.width = 1200/(1200/448)\n",
    "image.height = 814/(1200/448)\n",
    "sheet.add_image(image, 'F17')"
   ]
  },
  {
   "cell_type": "code",
   "execution_count": 55,
   "metadata": {},
   "outputs": [],
   "source": [
    "nameflie = datetime.datetime.now().strftime('%Y-%m-%d %Hh%Mm%Ss') + \" Report.xlsx\"\n",
    "workbook.save(nameflie)"
   ]
  }
 ],
 "metadata": {
  "language_info": {
   "codemirror_mode": {
    "name": "ipython",
    "version": 3
   },
   "file_extension": ".py",
   "mimetype": "text/x-python",
   "name": "python",
   "nbconvert_exporter": "python",
   "pygments_lexer": "ipython3",
   "version": "3.8.2-final"
  },
  "orig_nbformat": 2,
  "kernelspec": {
   "name": "python38232bit8e6883461a9343559af6d04d2e0eacfa",
   "display_name": "Python 3.8.2 32-bit"
  }
 },
 "nbformat": 4,
 "nbformat_minor": 2
}